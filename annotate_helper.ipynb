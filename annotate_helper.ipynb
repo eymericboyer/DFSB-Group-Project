{
 "cells": [
  {
   "cell_type": "code",
   "outputs": [],
   "source": [
    "import cv2\n",
    "import os\n",
    "from openpyxl import Workbook"
   ],
   "metadata": {
    "collapsed": false,
    "ExecuteTime": {
     "end_time": "2024-10-28T13:54:35.465656Z",
     "start_time": "2024-10-28T13:54:35.135144Z"
    }
   },
   "id": "e26f2829b9609a54",
   "execution_count": 1
  },
  {
   "cell_type": "code",
   "execution_count": 2,
   "id": "initial_id",
   "metadata": {
    "collapsed": true,
    "ExecuteTime": {
     "end_time": "2024-10-28T13:54:35.469528Z",
     "start_time": "2024-10-28T13:54:35.466825Z"
    }
   },
   "outputs": [],
   "source": [
    "ROOT_DIR = os.path.abspath('')\n",
    "DATA_DIR = os.path.join(ROOT_DIR, \"data\")\n",
    "image_directory = os.path.join(DATA_DIR, \"to_label\") \n",
    "output_xlsx = os.path.join(DATA_DIR, \"my_serial_numbers.xlsx\")\n",
    "\n",
    "if not os.path.exists(image_directory):\n",
    "    os.makedirs(image_directory)\n",
    "    \n",
    "if not os.path.exists(DATA_DIR): \n",
    "    os.makedirs(DATA_DIR)"
   ]
  },
  {
   "cell_type": "code",
   "outputs": [
    {
     "name": "stderr",
     "output_type": "stream",
     "text": [
      "2024-10-28 14:54:35.626 Python[98513:12255190] WARNING: Secure coding is not enabled for restorable state! Enable secure coding by implementing NSApplicationDelegate.applicationSupportsSecureRestorableState: and returning YES.\n"
     ]
    },
    {
     "name": "stdout",
     "output_type": "stream",
     "text": [
      "Recorded position 1 at (997, 663)\n",
      "Recorded position 2 at (969, 646)\n",
      "Recorded position 3 at (948, 619)\n",
      "Recorded position 4 at (924, 605)\n",
      "Recorded position 5 at (892, 581)\n",
      "Recorded position 6 at (874, 563)\n",
      "Recorded position 7 at (819, 517)\n",
      "Recorded position 8 at (795, 497)\n",
      "Recorded position 9 at (771, 471)\n",
      "Recorded position 10 at (746, 454)\n",
      "Recorded position 11 at (716, 429)\n",
      "Recorded position 1 at (1050, 616)\n",
      "Recorded position 2 at (1049, 616)\n",
      "Recorded position 3 at (1049, 616)\n",
      "Recorded position 4 at (1049, 616)\n",
      "Recorded position 5 at (1049, 616)\n",
      "Recorded position 6 at (1049, 616)\n",
      "Recorded position 7 at (1049, 616)\n",
      "Recorded position 8 at (1049, 616)\n",
      "Recorded position 9 at (1049, 616)\n",
      "Recorded position 10 at (1049, 616)\n",
      "Recorded position 11 at (1049, 616)\n",
      "Recorded position 1 at (1011, 497)\n",
      "Recorded position 2 at (962, 471)\n",
      "Recorded position 3 at (856, 507)\n",
      "Recorded position 4 at (842, 577)\n",
      "Recorded position 5 at (862, 633)\n",
      "Recorded position 6 at (871, 659)\n",
      "Recorded position 7 at (882, 705)\n",
      "Recorded position 8 at (765, 673)\n",
      "Recorded position 9 at (756, 591)\n",
      "Recorded position 10 at (667, 737)\n",
      "Recorded position 11 at (626, 857)\n",
      "Data saved to /Users/eymericboyer/Documents/Universities/EPFL/Master/2024_Autumn_Semester/Data Science for business/Homeworks/Group Project/Phase1/data/my_serial_numbers.xlsx\n"
     ]
    }
   ],
   "source": [
    "# Get a list of all image files in the directory (update extensions if needed)\n",
    "image_files = [os.path.join(image_directory, f) for f in os.listdir(image_directory) if f.endswith(('.png', '.jpg', '.jpeg'))]\n",
    "\n",
    "# Initialize a list to store data for each image\n",
    "all_image_data = []\n",
    "click_count = 0\n",
    "digit_positions = []\n",
    "\n",
    "def on_click(event, x, y, flags, param):\n",
    "    global click_count, digit_positions\n",
    "    \n",
    "    if event == cv2.EVENT_LBUTTONDOWN and click_count < 11:\n",
    "        # Record the position of the click\n",
    "        digit_positions.append((x, y))\n",
    "        click_count += 1\n",
    "        print(f\"Recorded position {click_count} at ({x}, {y})\")\n",
    "\n",
    "def annotate_image(image_path):\n",
    "    global click_count, digit_positions\n",
    "\n",
    "    # Reset positions for each image\n",
    "    digit_positions = []\n",
    "    click_count = 0\n",
    "    \n",
    "    # Load the image\n",
    "    image = cv2.imread(image_path)\n",
    "    cv2.imshow(\"Annotate Image\", image)\n",
    "    cv2.setMouseCallback(\"Annotate Image\", on_click)\n",
    "\n",
    "    # Wait until 11 clicks are recorded\n",
    "    while click_count < 11:\n",
    "        cv2.waitKey(1)  # Small delay to keep the window open and responsive\n",
    "\n",
    "    # Close the window once all clicks are recorded\n",
    "    cv2.destroyAllWindows()\n",
    "    \n",
    "    # Prompt user for the concatenated 11-digit string\n",
    "    concatenated_digits = input(f\"Enter the 11-digit sequence for {os.path.basename(image_path)}: \")\n",
    "    \n",
    "    # Validate input to ensure it's exactly 11 digits\n",
    "    while not (len(concatenated_digits) == 11):\n",
    "        print(\"Invalid input. Please enter exactly 11 digits.\")\n",
    "        concatenated_digits = input(f\"Enter the 11-digit sequence for {os.path.basename(image_path)}: \")\n",
    "    \n",
    "    # Extract the file name only (no path)\n",
    "    file_name = os.path.basename(image_path)\n",
    "    \n",
    "    # Store the data if all 11 digits were successfully recorded\n",
    "    all_image_data.append([file_name, concatenated_digits] + digit_positions)\n",
    "\n",
    "def save_to_xlsx():\n",
    "    # Convert all tuples in each row to strings\n",
    "    formatted_data = [\n",
    "        [str(item) if isinstance(item, tuple) else item for item in row]\n",
    "        for row in all_image_data\n",
    "    ]\n",
    "    \n",
    "    # Sort the data by the 'image' column (first column)\n",
    "    sorted_data = sorted(formatted_data, key=lambda x: x[0])\n",
    "    \n",
    "    # Create a workbook and select the active worksheet\n",
    "    wb = Workbook()\n",
    "    ws = wb.active\n",
    "    \n",
    "    # Write the header\n",
    "    ws.append([\"image\", \"serial_number\"] + [f\"C{i+1}\" for i in range(11)])\n",
    "    \n",
    "    # Write all sorted and formatted data rows\n",
    "    for row in sorted_data:\n",
    "        ws.append(row)\n",
    "    \n",
    "    # Save the workbook as an XLSX file\n",
    "    wb.save(output_xlsx)\n",
    "    print(f\"Data saved to {output_xlsx}\")\n",
    "\n",
    "# Process each image one by one and collect digit data\n",
    "for image_path in image_files:\n",
    "    annotate_image(image_path)\n",
    "\n",
    "# Save data for all images to the CSV file after all annotations are complete\n",
    "save_to_xlsx()"
   ],
   "metadata": {
    "collapsed": false,
    "ExecuteTime": {
     "end_time": "2024-10-28T13:55:08.404333Z",
     "start_time": "2024-10-28T13:54:35.470354Z"
    }
   },
   "id": "2bdc5df07bb9d508",
   "execution_count": 3
  },
  {
   "cell_type": "code",
   "outputs": [],
   "source": [],
   "metadata": {
    "collapsed": false,
    "ExecuteTime": {
     "end_time": "2024-10-28T13:55:08.407023Z",
     "start_time": "2024-10-28T13:55:08.405325Z"
    }
   },
   "id": "4347fa4f6bb5588",
   "execution_count": 3
  }
 ],
 "metadata": {
  "kernelspec": {
   "display_name": "Python 3",
   "language": "python",
   "name": "python3"
  },
  "language_info": {
   "codemirror_mode": {
    "name": "ipython",
    "version": 2
   },
   "file_extension": ".py",
   "mimetype": "text/x-python",
   "name": "python",
   "nbconvert_exporter": "python",
   "pygments_lexer": "ipython2",
   "version": "2.7.6"
  }
 },
 "nbformat": 4,
 "nbformat_minor": 5
}
