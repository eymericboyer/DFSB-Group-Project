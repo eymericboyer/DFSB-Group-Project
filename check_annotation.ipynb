{
 "cells": [
  {
   "cell_type": "code",
   "outputs": [],
   "source": [
    "import pandas as pd\n",
    "import os\n",
    "import numpy as np\n",
    "import cv2\n",
    "from tkinter import Tk, Label, Button, messagebox, simpledialog\n",
    "from PIL import Image, ImageTk\n",
    "import xlsxwriter\n",
    "from datetime import datetime"
   ],
   "metadata": {
    "collapsed": false,
    "ExecuteTime": {
     "end_time": "2024-10-27T08:34:58.010866Z",
     "start_time": "2024-10-27T08:34:56.523342Z"
    }
   },
   "id": "8f51e8187201ed36",
   "execution_count": 1
  },
  {
   "cell_type": "code",
   "execution_count": 2,
   "id": "initial_id",
   "metadata": {
    "collapsed": true,
    "ExecuteTime": {
     "end_time": "2024-10-27T08:34:58.014350Z",
     "start_time": "2024-10-27T08:34:58.011877Z"
    }
   },
   "outputs": [],
   "source": [
    "ROOT_DIR = os.path.abspath('')\n",
    "DATA_DIR = os.path.join(ROOT_DIR, 'data')\n",
    "IMAGES_DIR = os.path.join(ROOT_DIR, 'New_Billets')\n",
    "input_file_path = os.path.join(DATA_DIR, 'serial_numbers_test.xlsx')\n",
    "output_file_path = os.path.join(DATA_DIR, f'{datetime.now().strftime(\"%d-%m_%Hh_%Mm_%Ss\")}_updated_serial_numbers.xlsx')\n",
    "\n",
    "# Parameters for size of window\n",
    "H = 30 # Horizontal padding in pixels\n",
    "V = 40 # Vertical padding in pixels"
   ]
  },
  {
   "cell_type": "code",
   "outputs": [],
   "source": [
    "df = pd.read_excel(input_file_path)\n",
    "corrected_df = df.copy()\n",
    "# Ensure the serial_number column is treated as strings\n",
    "corrected_df['serial_number'] = corrected_df['serial_number'].astype(str)\n"
   ],
   "metadata": {
    "collapsed": false,
    "ExecuteTime": {
     "end_time": "2024-10-27T08:34:58.141793Z",
     "start_time": "2024-10-27T08:34:58.014998Z"
    }
   },
   "id": "5fb0a3c35bb142a1",
   "execution_count": 3
  },
  {
   "cell_type": "code",
   "outputs": [],
   "source": [
    "# Function to rotate the image\n",
    "def rotate_image(image, angle, center):\n",
    "    (h, w) = image.shape[:2]\n",
    "    rot_matrix = cv2.getRotationMatrix2D(center, angle, 1.0)\n",
    "    return cv2.warpAffine(image, rot_matrix, (w, h))\n",
    "\n",
    "# Function to calculate the window for cropping\n",
    "def calculate_window(row, H, V, image_shape):\n",
    "    # Ensure \"C1\" and \"C11\" are not NaN\n",
    "    if pd.isna(row[\"C1\"]) or pd.isna(row[\"C11\"]):\n",
    "        print(f\"Skipping row {current_index} due to missing coordinates in 'C1' or 'C11'.\")\n",
    "        return None  # Signal to skip this row\n",
    "    \n",
    "    new_c1 = eval(row[\"C1\"].replace(\";\", \",\"))\n",
    "    new_c11 = eval(row[\"C11\"].replace(\";\", \",\"))\n",
    "\n",
    "    angle = np.degrees(np.arctan2(new_c11[1] - new_c1[1], new_c11[0] - new_c1[0]))\n",
    "    image_center = (image_shape[1] // 2, image_shape[0] // 2)\n",
    "\n",
    "    def rotate_point(point, angle, center):\n",
    "        rot_matrix = cv2.getRotationMatrix2D(center, angle, 1.0)\n",
    "        return np.dot(rot_matrix, np.array([point[0], point[1], 1]))\n",
    "\n",
    "    rotated_new_c1 = rotate_point(new_c1, angle, image_center)\n",
    "    rotated_new_c11 = rotate_point(new_c11, angle, image_center)\n",
    "\n",
    "    x_min_rotated = int(rotated_new_c1[0] - H)\n",
    "    x_max_rotated = int(rotated_new_c11[0] + H)\n",
    "    y_min_rotated = int(rotated_new_c1[1] - V)\n",
    "    y_max_rotated = int(rotated_new_c1[1] + V)\n",
    "\n",
    "    return rotated_new_c1, rotated_new_c11, x_min_rotated, x_max_rotated, y_min_rotated, y_max_rotated, angle\n",
    "\n",
    "# Save the updated DataFrame\n",
    "def save_data():\n",
    "    corrected_df['serial_number'] = corrected_df['serial_number'].astype(str).replace('nan', '')\n",
    "    corrected_df.to_excel(output_file_path, index=False, engine='xlsxwriter')\n",
    "    print(\"Corrected data saved.\")\n"
   ],
   "metadata": {
    "collapsed": false,
    "ExecuteTime": {
     "end_time": "2024-10-27T08:34:58.145895Z",
     "start_time": "2024-10-27T08:34:58.142496Z"
    }
   },
   "id": "3849b4ca77bbbaa2",
   "execution_count": 4
  },
  {
   "cell_type": "code",
   "outputs": [],
   "source": [
    "# Define button actions\n",
    "def update_image_display():\n",
    "    global image_tk, current_index\n",
    "\n",
    "    # Get the current row data\n",
    "    row = corrected_df.iloc[current_index]\n",
    "    image_path = os.path.join(IMAGES_DIR, str(row['image']))\n",
    "    image = cv2.imread(image_path)\n",
    "    if image is None:\n",
    "        print(f\"Error: Could not load image at {image_path}\")\n",
    "        return\n",
    "\n",
    "    # Calculate rotated and cropped image\n",
    "    window_data = calculate_window(row, H, V, image.shape)\n",
    "    if window_data is None:  # Skip if window calculation failed\n",
    "        next_image()\n",
    "        return\n",
    "\n",
    "    rotated_new_c1, rotated_new_c11, x_min, x_max, y_min, y_max, angle = window_data\n",
    "    center = (image.shape[1] // 2, image.shape[0] // 2)\n",
    "    rotated_image = rotate_image(image, angle, center)\n",
    "\n",
    "    x_min, x_max = max(0, x_min), min(rotated_image.shape[1], x_max)\n",
    "    y_min, y_max = max(0, y_min), min(rotated_image.shape[0], y_max)\n",
    "    cropped_image = rotated_image[y_min:y_max, x_min:x_max]\n",
    "\n",
    "    # Convert OpenCV image to Tkinter-compatible format\n",
    "    image_rgb = cv2.cvtColor(cropped_image, cv2.COLOR_BGR2RGB)\n",
    "    image_pil = Image.fromarray(image_rgb)\n",
    "    image_tk = ImageTk.PhotoImage(image_pil)  # Update global reference\n",
    "\n",
    "    # Update the Label widget with the new image and keep the reference\n",
    "    image_label.config(image=image_tk)\n",
    "    image_label.image = image_tk  # Explicitly store reference\n",
    "    root.title(f\"Processing Image - Row {current_index}\")\n",
    "\n",
    "def on_agree():\n",
    "    global current_index\n",
    "    print(f\"Accepted for index {current_index}\")\n",
    "    next_image()\n",
    "\n",
    "def on_edit():\n",
    "    global current_index\n",
    "    new_serial = simpledialog.askstring(\"Input\", \"Enter the new 11-character serial number:\", parent=root)\n",
    "    while new_serial is not None and len(new_serial) != 11:\n",
    "        messagebox.showwarning(\"Warning\", \"Invalid input. Enter exactly 11 characters.\")\n",
    "        new_serial = simpledialog.askstring(\"Input\", \"Enter the new 11-character serial number:\", parent=root)\n",
    "\n",
    "    if new_serial is not None:\n",
    "        corrected_df.at[current_index, 'serial_number'] = new_serial\n",
    "        print(f\"Updated serial number for index {current_index}: {new_serial}\")\n",
    "    next_image()\n",
    "\n",
    "def on_quit():\n",
    "    save_data()\n",
    "    root.destroy()  # Properly close Tkinter\n",
    "\n",
    "def next_image():\n",
    "    global current_index\n",
    "    current_index += 1\n",
    "    if current_index < len(corrected_df):\n",
    "        update_image_display()  # Update display for the next image\n",
    "    else:\n",
    "        save_data()\n",
    "        root.quit()  # Exit the Tkinter main loop\n",
    "        root.destroy()  # Close when done"
   ],
   "metadata": {
    "collapsed": false,
    "ExecuteTime": {
     "end_time": "2024-10-27T08:34:58.151642Z",
     "start_time": "2024-10-27T08:34:58.147245Z"
    }
   },
   "id": "7f7808fbb2b4d319",
   "execution_count": 5
  },
  {
   "cell_type": "code",
   "outputs": [
    {
     "name": "stdout",
     "output_type": "stream",
     "text": [
      "Accepted for index 0\n",
      "Accepted for index 1\n",
      "Accepted for index 2\n",
      "Accepted for index 3\n",
      "Accepted for index 4\n",
      "Skipping row 5 due to missing coordinates in 'C1' or 'C11'.\n",
      "Skipping row 6 due to missing coordinates in 'C1' or 'C11'.\n",
      "Skipping row 7 due to missing coordinates in 'C1' or 'C11'.\n",
      "Skipping row 8 due to missing coordinates in 'C1' or 'C11'.\n",
      "Accepted for index 9\n",
      "Corrected data saved.\n"
     ]
    }
   ],
   "source": [
    "image_tk = None\n",
    "current_index = 0\n",
    "\n",
    "# Initialize the Tkinter window once\n",
    "root = Tk()\n",
    "root.title(\"Image Review\")\n",
    "image_label = Label(root)\n",
    "image_label.grid(row=0, column=0, columnspan=3, padx=10, pady=10)\n",
    "\n",
    "# Create buttons once and set commands\n",
    "agree_button = Button(root, text=\"Agree\", command=on_agree)\n",
    "agree_button.grid(row=1, column=0, padx=10, pady=10)\n",
    "\n",
    "edit_button = Button(root, text=\"Edit\", command=on_edit)\n",
    "edit_button.grid(row=1, column=1, padx=10, pady=10)\n",
    "\n",
    "quit_button = Button(root, text=\"Quit\", command=on_quit)\n",
    "quit_button.grid(row=1, column=2, padx=10, pady=10)\n",
    "\n",
    "\n",
    "# Start with the first image\n",
    "update_image_display()\n",
    "root.mainloop()"
   ],
   "metadata": {
    "collapsed": false,
    "ExecuteTime": {
     "end_time": "2024-10-27T08:35:02.310056Z",
     "start_time": "2024-10-27T08:34:58.152165Z"
    }
   },
   "id": "20e362d9dfcf66be",
   "execution_count": 6
  },
  {
   "cell_type": "code",
   "outputs": [],
   "source": [],
   "metadata": {
    "collapsed": false,
    "ExecuteTime": {
     "end_time": "2024-10-27T08:35:02.312651Z",
     "start_time": "2024-10-27T08:35:02.311001Z"
    }
   },
   "id": "949620a5653ee058",
   "execution_count": 6
  }
 ],
 "metadata": {
  "kernelspec": {
   "display_name": "Python 3",
   "language": "python",
   "name": "python3"
  },
  "language_info": {
   "codemirror_mode": {
    "name": "ipython",
    "version": 2
   },
   "file_extension": ".py",
   "mimetype": "text/x-python",
   "name": "python",
   "nbconvert_exporter": "python",
   "pygments_lexer": "ipython2",
   "version": "2.7.6"
  }
 },
 "nbformat": 4,
 "nbformat_minor": 5
}
